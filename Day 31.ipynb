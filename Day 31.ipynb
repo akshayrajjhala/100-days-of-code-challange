{
 "cells": [
  {
   "cell_type": "code",
   "execution_count": 2,
   "id": "14e5771a",
   "metadata": {},
   "outputs": [
    {
     "name": "stdout",
     "output_type": "stream",
     "text": [
      "Enter the first date: 20\n",
      "Enter the second date: 30\n"
     ]
    },
    {
     "ename": "IndexError",
     "evalue": "list index out of range",
     "output_type": "error",
     "traceback": [
      "\u001b[1;31m---------------------------------------------------------------------------\u001b[0m",
      "\u001b[1;31mIndexError\u001b[0m                                Traceback (most recent call last)",
      "Input \u001b[1;32mIn [2]\u001b[0m, in \u001b[0;36m<cell line: 8>\u001b[1;34m()\u001b[0m\n\u001b[0;32m      6\u001b[0m date1_list \u001b[38;5;241m=\u001b[39m date1_input\u001b[38;5;241m.\u001b[39msplit(\u001b[38;5;124m\"\u001b[39m\u001b[38;5;124m \u001b[39m\u001b[38;5;124m\"\u001b[39m)\n\u001b[0;32m      7\u001b[0m year1 \u001b[38;5;241m=\u001b[39m \u001b[38;5;28mint\u001b[39m(date1_list[\u001b[38;5;241m0\u001b[39m])\n\u001b[1;32m----> 8\u001b[0m month1 \u001b[38;5;241m=\u001b[39m \u001b[38;5;28mint\u001b[39m(\u001b[43mdate1_list\u001b[49m\u001b[43m[\u001b[49m\u001b[38;5;241;43m1\u001b[39;49m\u001b[43m]\u001b[49m)\n\u001b[0;32m      9\u001b[0m day1 \u001b[38;5;241m=\u001b[39m \u001b[38;5;28mint\u001b[39m(date1_list[\u001b[38;5;241m2\u001b[39m])\n\u001b[0;32m     11\u001b[0m date1_obj \u001b[38;5;241m=\u001b[39m datetime\u001b[38;5;241m.\u001b[39mdate(year1, month1, day1)\n",
      "\u001b[1;31mIndexError\u001b[0m: list index out of range"
     ]
    }
   ],
   "source": [
    "import datetime\n",
    "\n",
    "date1_input = input(\"Enter the first date: \")\n",
    "date2_input = input(\"Enter the second date: \")\n",
    "\n",
    "date1_list = date1_input.split(\" \")\n",
    "year1 = int(date1_list[0])\n",
    "month1 = int(date1_list[1])\n",
    "day1 = int(date1_list[2])\n",
    "\n",
    "date1_obj = datetime.date(year1, month1, day1)\n",
    "\n",
    "date2_list = date2_input.split(\" \")\n",
    "year2 = int(date2_list[0])\n",
    "month2 = int(date2_list[1])\n",
    "day2 = int(date2_list[2])\n",
    "\n",
    "date2_obj = datetime.date(year2, month2, day2)\n",
    "\n",
    "if date2_obj < date1_obj:\n",
    "    print(\"Please enter valid dates.\")\n",
    "else:\n",
    "    difference = (date2_obj - date1_obj).days\n",
    "\n",
    "    if difference == 0:\n",
    "        print(\"These dates are equal.\")\n",
    "    elif difference == 1:\n",
    "    \tprint(f\"There is 1 day between these dates.\")\n",
    "    else:\n",
    "        print(f\"There are {difference} days between these dates.\")"
   ]
  },
  {
   "cell_type": "code",
   "execution_count": null,
   "id": "f7199199",
   "metadata": {},
   "outputs": [],
   "source": []
  }
 ],
 "metadata": {
  "kernelspec": {
   "display_name": "Python 3 (ipykernel)",
   "language": "python",
   "name": "python3"
  },
  "language_info": {
   "codemirror_mode": {
    "name": "ipython",
    "version": 3
   },
   "file_extension": ".py",
   "mimetype": "text/x-python",
   "name": "python",
   "nbconvert_exporter": "python",
   "pygments_lexer": "ipython3",
   "version": "3.9.12"
  }
 },
 "nbformat": 4,
 "nbformat_minor": 5
}
