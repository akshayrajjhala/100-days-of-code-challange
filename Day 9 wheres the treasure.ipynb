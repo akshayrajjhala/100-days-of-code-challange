{
 "cells": [
  {
   "cell_type": "code",
   "execution_count": null,
   "id": "3495a033",
   "metadata": {},
   "outputs": [],
   "source": [
    "print(\"Welcome to Treasure Island.\")\n",
    "print(\"Your mission is to find the treasure.\")\n",
    "choice1=input(\"you are at cross, road choose where do you want to go, Left or Right?\\n\" ).lower()\n",
    "if choice1=='left':\n",
    "  choice2=input(\"you have reached the shore of lake do you want to swim or wait?\\n\").lower()\n",
    "  if choice2=='wait':\n",
    "    choice3=input(\"you see two boats namely isabela and esmeralda choose one to go to island\\n\").lower()\n",
    "    if choice3=='isabela':\n",
    "     \n",
    "      choice4=input('you have reached island now select one coloured room from red, orange and blue\\n' ).lower()\n",
    "      if choice4=='orange':\n",
    "        print('you choose wisely you have the tresure')\n",
    "      elif choice4=='red':\n",
    "        print('the room was booby trapped you lost ')\n",
    "      elif choice4=='blue':\n",
    "        print('the room was labyrinth you got lost')\n",
    "      else:\n",
    "        print(\"you choose the wrong room game over\")\n",
    "    else:\n",
    "      print(\"you choose the wrong boat game over\")\n",
    "  elif choice3=='esmeralda':\n",
    "      print('the boat you choose burnt out in the water leaving you to swim')\n",
    "  else:\n",
    "    print(\"the boat you choose stopped right in the middle of lake you try to swim but aligators get you\")\n",
    "else:\n",
    " print('you lost the way and someone reached ahead of you')"
   ]
  }
 ],
 "metadata": {
  "kernelspec": {
   "display_name": "Python 3 (ipykernel)",
   "language": "python",
   "name": "python3"
  },
  "language_info": {
   "codemirror_mode": {
    "name": "ipython",
    "version": 3
   },
   "file_extension": ".py",
   "mimetype": "text/x-python",
   "name": "python",
   "nbconvert_exporter": "python",
   "pygments_lexer": "ipython3",
   "version": "3.9.12"
  }
 },
 "nbformat": 4,
 "nbformat_minor": 5
}
