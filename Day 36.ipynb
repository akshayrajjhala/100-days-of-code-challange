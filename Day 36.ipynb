{
 "cells": [
  {
   "cell_type": "code",
   "execution_count": 2,
   "id": "1aa1625b",
   "metadata": {},
   "outputs": [
    {
     "name": "stdout",
     "output_type": "stream",
     "text": [
      "Bitmap Message, by Al Sweigart al@inventwithpython.com\n",
      "Enter the message to display with the bitmap.\n",
      "> /\n",
      "\n",
      "////////////////////////////////////////////////////////////////////\n",
      "   //////////////   /  /// //  /      //////////////////////////////\n",
      "  ///////////////////// // // /  / ////////////////////////////// /\n",
      " //      /////////////////       //////////////////////////////\n",
      "          /////////////          //  / //// // ////////////// /\n",
      "           /////////            ///////   //////////////// / /\n",
      "            ////////           ///////////////////////////  /\n",
      "   /        / //// ///         /////////////// //////  // /\n",
      "               ////  /         ///////////////   /// ///  /\n",
      "                 //////         /////////////    //   //  /\n",
      "                 ////////        /////////////    /  // ///\n",
      "                   ////////         ////////          / /// ////\n",
      "                   /////////         //////  /        //// // / //\n",
      "                   /////////         ////// / /           /// /   /\n",
      "                     //////          ///// //             /////   /\n",
      "                     /////            //// /            ////////\n",
      "                    /////             ////              /////////\n",
      "                    ////              //                 ///////   /\n",
      "                    ///                                       /    /\n",
      "                    //     /                    /\n",
      "////////////////////////////////////////////////////////////////////\n"
     ]
    }
   ],
   "source": [
    "import sys\n",
    "\n",
    "# (!) Try changing this multiline string to any image you like:\n",
    "\n",
    "# There are 68 periods along the top and bottom of this string:\n",
    "# (You can also copy and paste this string from\n",
    "# https://inventwithpython.com/bitmapworld.txt)\n",
    "bitmap = \"\"\"\n",
    "....................................................................\n",
    "   **************   *  *** **  *      ******************************\n",
    "  ********************* ** ** *  * ****************************** *\n",
    " **      *****************       ******************************\n",
    "          *************          **  * **** ** ************** *\n",
    "           *********            *******   **************** * *\n",
    "            ********           ***************************  *\n",
    "   *        * **** ***         *************** ******  ** *\n",
    "               ****  *         ***************   *** ***  *\n",
    "                 ******         *************    **   **  *\n",
    "                 ********        *************    *  ** ***\n",
    "                   ********         ********          * *** ****\n",
    "                   *********         ******  *        **** ** * **\n",
    "                   *********         ****** * *           *** *   *\n",
    "                     ******          ***** **             *****   *\n",
    "                     *****            **** *            ********\n",
    "                    *****             ****              *********\n",
    "                    ****              **                 *******   *\n",
    "                    ***                                       *    *\n",
    "                    **     *                    *\n",
    "....................................................................\"\"\"\n",
    "\n",
    "print('Bitmap Message, by Al Sweigart al@inventwithpython.com')\n",
    "print('Enter the message to display with the bitmap.')\n",
    "message = input('> ')\n",
    "if message == '':\n",
    "    sys.exit()\n",
    "\n",
    "# Loop over each line in the bitmap:\n",
    "for line in bitmap.splitlines():\n",
    "    # Loop over each character in the line:\n",
    "    for i, bit in enumerate(line):\n",
    "        if bit == ' ':\n",
    "            # Print an empty space since there's a space in the bitmap:\n",
    "            print(' ', end='')\n",
    "        else:\n",
    "            # Print a character from the message:\n",
    "            print(message[i % len(message)], end='')\n",
    "    print()  # Print a newline."
   ]
  },
  {
   "cell_type": "code",
   "execution_count": null,
   "id": "ca025ad8",
   "metadata": {},
   "outputs": [],
   "source": []
  }
 ],
 "metadata": {
  "kernelspec": {
   "display_name": "Python 3 (ipykernel)",
   "language": "python",
   "name": "python3"
  },
  "language_info": {
   "codemirror_mode": {
    "name": "ipython",
    "version": 3
   },
   "file_extension": ".py",
   "mimetype": "text/x-python",
   "name": "python",
   "nbconvert_exporter": "python",
   "pygments_lexer": "ipython3",
   "version": "3.9.12"
  }
 },
 "nbformat": 4,
 "nbformat_minor": 5
}
