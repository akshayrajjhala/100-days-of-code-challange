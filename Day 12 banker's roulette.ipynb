{
 "cells": [
  {
   "cell_type": "code",
   "execution_count": null,
   "id": "5f9b86cf",
   "metadata": {},
   "outputs": [],
   "source": [
    "names_string = input(\"Give me everybody's names, separated by a comma. \\n \")\n",
    "names = names_string.split(\", \")\n",
    "\n",
    "num_items=len(names)\n",
    "random_choice=random.randint(0,num_items-1)\n",
    "who_pays=names[random_choice]\n",
    "print(who_pays + \" is going to buy the meal today!\")"
   ]
  }
 ],
 "metadata": {
  "kernelspec": {
   "display_name": "Python 3 (ipykernel)",
   "language": "python",
   "name": "python3"
  },
  "language_info": {
   "codemirror_mode": {
    "name": "ipython",
    "version": 3
   },
   "file_extension": ".py",
   "mimetype": "text/x-python",
   "name": "python",
   "nbconvert_exporter": "python",
   "pygments_lexer": "ipython3",
   "version": "3.9.12"
  }
 },
 "nbformat": 4,
 "nbformat_minor": 5
}
