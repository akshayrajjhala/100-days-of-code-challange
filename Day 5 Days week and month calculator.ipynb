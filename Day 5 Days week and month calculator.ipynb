{
 "cells": [
  {
   "cell_type": "code",
   "execution_count": null,
   "id": "2e28e30f",
   "metadata": {},
   "outputs": [],
   "source": [
    "\n",
    "age = input(\"What is your current age?\")\n",
    "\n",
    "age_as_int=int(age)\n",
    "years_remaining=(90-age_as_int)\n",
    "days_remaining=years_remaining*365\n",
    "weeks_remaining=years_remaining*52\n",
    "months_remaining=years_remaining*12\n",
    "message=f\"You have{days_remaining}  days,{weeks_remaining}  weeks, and {months_remaining}  months left.\"\n",
    "print(message)\n"
   ]
  }
 ],
 "metadata": {
  "kernelspec": {
   "display_name": "Python 3 (ipykernel)",
   "language": "python",
   "name": "python3"
  },
  "language_info": {
   "codemirror_mode": {
    "name": "ipython",
    "version": 3
   },
   "file_extension": ".py",
   "mimetype": "text/x-python",
   "name": "python",
   "nbconvert_exporter": "python",
   "pygments_lexer": "ipython3",
   "version": "3.9.12"
  }
 },
 "nbformat": 4,
 "nbformat_minor": 5
}
