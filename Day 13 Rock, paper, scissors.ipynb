{
 "cells": [
  {
   "cell_type": "code",
   "execution_count": null,
   "id": "72535034",
   "metadata": {},
   "outputs": [],
   "source": [
    "import random\n",
    "\n",
    "rock = '''\n",
    "    _______\n",
    "---'   ____)\n",
    "      (_____)\n",
    "      (_____)\n",
    "      (____)\n",
    "---.__(___)\n",
    "'''\n",
    "\n",
    "paper = '''\n",
    "    _______\n",
    "---'   ____)____\n",
    "          ______)\n",
    "          _______)\n",
    "         _______)\n",
    "---.__________)\n",
    "'''\n",
    "\n",
    "scissors = '''\n",
    "    _______\n",
    "---'   ____)____\n",
    "          ______)\n",
    "       __________)\n",
    "      (____)\n",
    "---.__(___)\n",
    "'''\n",
    "\n",
    "\n",
    "game=[rock,paper,scissors]\n",
    "user_input=int(input(\"What do you choose? Type 0 for Rock, 1 for Paper or 2 for Scissors.\\n\"))\n",
    "print(game[user_input])\n",
    "\n",
    "computer_input=random.randint(0,2)\n",
    "print(\"computer choose: \")\n",
    "print(game[computer_input])\n",
    "\n",
    "if user_input>=2 and user_input<0:\n",
    "  print('you entered an invalid button')\n",
    "elif user_input==0 and computer_input==2:\n",
    "  print(\"you won\")\n",
    "elif computer_input==0 and user_input==2:\n",
    "  print(\"Computer won\")\n",
    "elif computer_input>user_input:\n",
    "  print(\"Computer won\")\n",
    "elif user_input>computer_input:\n",
    "  print(\"You won\")\n",
    "elif computer_input==user_input:\n",
    "  print(\"Its a draw\")"
   ]
  }
 ],
 "metadata": {
  "kernelspec": {
   "display_name": "Python 3 (ipykernel)",
   "language": "python",
   "name": "python3"
  },
  "language_info": {
   "codemirror_mode": {
    "name": "ipython",
    "version": 3
   },
   "file_extension": ".py",
   "mimetype": "text/x-python",
   "name": "python",
   "nbconvert_exporter": "python",
   "pygments_lexer": "ipython3",
   "version": "3.9.12"
  }
 },
 "nbformat": 4,
 "nbformat_minor": 5
}
