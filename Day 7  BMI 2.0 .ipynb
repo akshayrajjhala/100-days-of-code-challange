{
 "cells": [
  {
   "cell_type": "code",
   "execution_count": null,
   "id": "002fa71a",
   "metadata": {},
   "outputs": [],
   "source": [
    "height = float(input(\"enter your height in m: \"))\n",
    "weight = float(input(\"enter your weight in kg: \"))\n",
    "# 🚨 Don't change the code above 👆\n",
    "\n",
    "#Write your code below this line 👇\n",
    "bmi=round(weight/height**2)\n",
    "if bmi<18.5:\n",
    "  print(f\"Your bmi is {bmi} you are underweight\")\n",
    "elif bmi<25:\n",
    "  print(f\"Your bmi is {bmi} you have normal weight\")\n",
    "elif bmi<30:\n",
    "  print(f\"Your bmi is {bmi} you are slightly overweight\")\n",
    "elif bmi<35:\n",
    "  print(f\"Your bmi is {bmi} you are obese\")\n",
    "else:\n",
    "  print(f\"Your bmi is {bmi} you are clinically obese\")"
   ]
  }
 ],
 "metadata": {
  "kernelspec": {
   "display_name": "Python 3 (ipykernel)",
   "language": "python",
   "name": "python3"
  },
  "language_info": {
   "codemirror_mode": {
    "name": "ipython",
    "version": 3
   },
   "file_extension": ".py",
   "mimetype": "text/x-python",
   "name": "python",
   "nbconvert_exporter": "python",
   "pygments_lexer": "ipython3",
   "version": "3.9.12"
  }
 },
 "nbformat": 4,
 "nbformat_minor": 5
}
