{
 "cells": [
  {
   "cell_type": "code",
   "execution_count": null,
   "id": "fd2510bd",
   "metadata": {},
   "outputs": [],
   "source": [
    "base = int(input(\"Enter the base: \"))\n",
    "height = int(input(\"Enter the height: \"))\n",
    "\n",
    "if base > 0 and height > 0:\n",
    "    area = round((base*height)/2, 2)\n",
    "    print(f\"The area of a triangle with base {base} and height {height} is: {area}\")\n",
    "else:\n",
    "    print(\"Please enter valid values for base and height\")"
   ]
  }
 ],
 "metadata": {
  "kernelspec": {
   "display_name": "Python 3 (ipykernel)",
   "language": "python",
   "name": "python3"
  },
  "language_info": {
   "codemirror_mode": {
    "name": "ipython",
    "version": 3
   },
   "file_extension": ".py",
   "mimetype": "text/x-python",
   "name": "python",
   "nbconvert_exporter": "python",
   "pygments_lexer": "ipython3",
   "version": "3.9.12"
  }
 },
 "nbformat": 4,
 "nbformat_minor": 5
}
