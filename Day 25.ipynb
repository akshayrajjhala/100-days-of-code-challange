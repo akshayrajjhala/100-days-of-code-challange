{
 "cells": [
  {
   "cell_type": "code",
   "execution_count": null,
   "id": "c9187dda",
   "metadata": {},
   "outputs": [],
   "source": [
    "n = int(input(\"Enter the number of rows: \"))\n",
    "\n",
    "k = (2 * n) - 2\n",
    "\n",
    "for i in range(n):\n",
    "\n",
    "    for j in range(k):\n",
    "        print(\"\", end=\" \")\n",
    "\n",
    "    for j in range(i + 1):\n",
    "        print(\"*\", end=\" \")\n",
    "\n",
    "    print(\"\")\n",
    "\n",
    "    k = k - 2"
   ]
  }
 ],
 "metadata": {
  "kernelspec": {
   "display_name": "Python 3 (ipykernel)",
   "language": "python",
   "name": "python3"
  },
  "language_info": {
   "codemirror_mode": {
    "name": "ipython",
    "version": 3
   },
   "file_extension": ".py",
   "mimetype": "text/x-python",
   "name": "python",
   "nbconvert_exporter": "python",
   "pygments_lexer": "ipython3",
   "version": "3.9.12"
  }
 },
 "nbformat": 4,
 "nbformat_minor": 5
}
