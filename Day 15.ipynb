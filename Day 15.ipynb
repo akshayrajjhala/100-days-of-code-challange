{
 "cells": [
  {
   "cell_type": "code",
   "execution_count": null,
   "id": "48df9b0f",
   "metadata": {},
   "outputs": [],
   "source": [
    "\n",
    "student_scores = input(\"Input a list of student scores \").split()\n",
    "for n in range(0, len(student_scores)):\n",
    "  student_scores[n] = int(student_scores[n])\n",
    "print(student_scores)\n",
    "\n",
    "highest_score=0\n",
    "for score in student_scores:\n",
    "  if score>highest_score:\n",
    "   highest_score=score\n",
    "print(highest_score)"
   ]
  }
 ],
 "metadata": {
  "kernelspec": {
   "display_name": "Python 3 (ipykernel)",
   "language": "python",
   "name": "python3"
  },
  "language_info": {
   "codemirror_mode": {
    "name": "ipython",
    "version": 3
   },
   "file_extension": ".py",
   "mimetype": "text/x-python",
   "name": "python",
   "nbconvert_exporter": "python",
   "pygments_lexer": "ipython3",
   "version": "3.9.12"
  }
 },
 "nbformat": 4,
 "nbformat_minor": 5
}
