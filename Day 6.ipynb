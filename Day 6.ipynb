{
 "cells": [
  {
   "cell_type": "code",
   "execution_count": 1,
   "id": "cfc60d7d",
   "metadata": {},
   "outputs": [
    {
     "name": "stdout",
     "output_type": "stream",
     "text": [
      "Welcome to the tip calculator!\n",
      "what was the total bill? 1200\n",
      "How much tip would you like to give?10,12 or15 12\n",
      "How many people to split the bill? 5\n",
      "each person should pay Rs 268.8\n"
     ]
    }
   ],
   "source": [
    "print(\"Welcome to the tip calculator!\")\n",
    "bill=float(input(\"what was the total bill? \"))\n",
    "tip=int(input(\"How much tip would you like to give?10,12 or15 \"))\n",
    "total_people=int(input(\"How many people to split the bill? \"))\n",
    "percentage_tip=bill*tip/100\n",
    "bill_with_tip=bill+percentage_tip\n",
    "bill_p_p=bill_with_tip/total_people\n",
    "final_amount=round(bill_p_p,2)\n",
    "print(f\"Each person should pay Rs {final_amount}\")"
   ]
  },
  {
   "cell_type": "code",
   "execution_count": null,
   "id": "05bacf40",
   "metadata": {},
   "outputs": [],
   "source": []
  }
 ],
 "metadata": {
  "kernelspec": {
   "display_name": "Python 3 (ipykernel)",
   "language": "python",
   "name": "python3"
  },
  "language_info": {
   "codemirror_mode": {
    "name": "ipython",
    "version": 3
   },
   "file_extension": ".py",
   "mimetype": "text/x-python",
   "name": "python",
   "nbconvert_exporter": "python",
   "pygments_lexer": "ipython3",
   "version": "3.9.12"
  }
 },
 "nbformat": 4,
 "nbformat_minor": 5
}
